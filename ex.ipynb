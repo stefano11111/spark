{
 "cells": [
  {
   "cell_type": "code",
   "execution_count": 1,
   "id": "9d867484",
   "metadata": {},
   "outputs": [],
   "source": [
    "import pyspark\n",
    "from pyspark.sql import SparkSession"
   ]
  },
  {
   "cell_type": "code",
   "execution_count": 2,
   "id": "18cf8dbd",
   "metadata": {},
   "outputs": [],
   "source": [
    "spark = SparkSession.builder.master(\"local[*]\").appName(\"Datamanipulation\").getOrCreate()"
   ]
  },
  {
   "cell_type": "code",
   "execution_count": 3,
   "id": "9e64796c",
   "metadata": {},
   "outputs": [
    {
     "data": {
      "text/html": [
       "\n",
       "            <div>\n",
       "                <p><b>SparkSession - in-memory</b></p>\n",
       "                \n",
       "        <div>\n",
       "            <p><b>SparkContext</b></p>\n",
       "\n",
       "            <p><a href=\"http://LAPTOP-B2SBIDHB.mshome.net:4040\">Spark UI</a></p>\n",
       "\n",
       "            <dl>\n",
       "              <dt>Version</dt>\n",
       "                <dd><code>v3.5.0</code></dd>\n",
       "              <dt>Master</dt>\n",
       "                <dd><code>local[*]</code></dd>\n",
       "              <dt>AppName</dt>\n",
       "                <dd><code>Datamanipulation</code></dd>\n",
       "            </dl>\n",
       "        </div>\n",
       "        \n",
       "            </div>\n",
       "        "
      ],
      "text/plain": [
       "<pyspark.sql.session.SparkSession at 0x21e7074bf50>"
      ]
     },
     "execution_count": 3,
     "metadata": {},
     "output_type": "execute_result"
    }
   ],
   "source": [
    "spark"
   ]
  },
  {
   "cell_type": "code",
   "execution_count": 4,
   "id": "1cb29770",
   "metadata": {},
   "outputs": [
    {
     "name": "stdout",
     "output_type": "stream",
     "text": [
      "+------+---------------+----------+----------+--------------+-----------+--------------+---------+-----+-------+--------------+------+---------------+---------------+------------+--------------------+------+--------+--------+------+\n",
      "|Row ID|       Order ID|Order Date| Ship Date|     Ship Mode|Customer ID| Customer Name|  Segment| City|  State|       Country|Region|     Product ID|       Category|Sub-Category|        Product Name| Sales|Quantity|Discount|Profit|\n",
      "+------+---------------+----------+----------+--------------+-----------+--------------+---------+-----+-------+--------------+------+---------------+---------------+------------+--------------------+------+--------+--------+------+\n",
      "|     1|ES-2017-1311038|07/02/2017|11/02/2017|Standard Class|   AS-10045|Aaron Smayling|Corporate|Leeds|England|United Kingdom| North|OFF-ST-10000988|Office Supplies|     Storage|Fellowes Folders,...|  79.2|       3|     0.0|  39.6|\n",
      "|     2|ES-2017-1311038|07/02/2017|11/02/2017|Standard Class|   AS-10045|Aaron Smayling|Corporate|Leeds|England|United Kingdom| North|TEC-AC-10004144|     Technology| Accessories|SanDisk Numeric K...|388.92|       7|     0.0|   0.0|\n",
      "|     3|ES-2017-1311038|07/02/2017|11/02/2017|Standard Class|   AS-10045|Aaron Smayling|Corporate|Leeds|England|United Kingdom| North|OFF-LA-10001915|Office Supplies|      Labels|Avery Legal Exhib...| 35.19|       3|     0.0| 16.11|\n",
      "|     4|ES-2017-1311038|07/02/2017|11/02/2017|Standard Class|   AS-10045|Aaron Smayling|Corporate|Leeds|England|United Kingdom| North|OFF-ST-10004550|Office Supplies|     Storage|Fellowes Folders,...| 50.94|       2|     0.0|  13.2|\n",
      "|     5|ES-2017-1311038|07/02/2017|11/02/2017|Standard Class|   AS-10045|Aaron Smayling|Corporate|Leeds|England|United Kingdom| North|TEC-AC-10004068|     Technology| Accessories|Memorex Memory Ca...|307.44|       3|     0.0| 73.71|\n",
      "+------+---------------+----------+----------+--------------+-----------+--------------+---------+-----+-------+--------------+------+---------------+---------------+------------+--------------------+------+--------+--------+------+\n",
      "\n"
     ]
    }
   ],
   "source": [
    "# read our data - lives in a csv file\n",
    "\n",
    "db = spark.read.csv(\"Sample - EU Superstore.csv\",header=True,inferSchema=True)\n",
    "db.limit(5).show()"
   ]
  },
  {
   "cell_type": "code",
   "execution_count": 5,
   "id": "6c800030",
   "metadata": {},
   "outputs": [
    {
     "data": {
      "text/plain": [
       "2827"
      ]
     },
     "execution_count": 5,
     "metadata": {},
     "output_type": "execute_result"
    }
   ],
   "source": [
    "# how many rows of the EU Superstore dataset have the country being France\n",
    "\n",
    "db.filter(db[\"Country\"]==\"France\").count()\n"
   ]
  },
  {
   "cell_type": "code",
   "execution_count": 6,
   "id": "648e5f8a",
   "metadata": {},
   "outputs": [
    {
     "data": {
      "text/plain": [
       "2329"
      ]
     },
     "execution_count": 6,
     "metadata": {},
     "output_type": "execute_result"
    }
   ],
   "source": [
    "# of those, how many are profitable?\n",
    "db.filter((db[\"Country\"]==\"France\")&(db[\"Profit\"]>0)).count()\n",
    "\n"
   ]
  },
  {
   "cell_type": "code",
   "execution_count": 7,
   "id": "ca611b93",
   "metadata": {},
   "outputs": [
    {
     "data": {
      "text/plain": [
       "14"
      ]
     },
     "execution_count": 7,
     "metadata": {},
     "output_type": "execute_result"
    }
   ],
   "source": [
    "# how any different discount brackets exist? what are they?\n",
    "db.select(\"Discount\").distinct().count()\n"
   ]
  },
  {
   "cell_type": "code",
   "execution_count": 8,
   "id": "b2e1f9f0",
   "metadata": {},
   "outputs": [
    {
     "name": "stdout",
     "output_type": "stream",
     "text": [
      "+--------+-------------------+\n",
      "|Discount|        sum(Profit)|\n",
      "+--------+-------------------+\n",
      "|     0.0| 383806.53000000026|\n",
      "|     0.1|  126884.0309999999|\n",
      "|    0.15| 24677.563499999975|\n",
      "|     0.2| 2189.5499999999984|\n",
      "|     0.3| -758.4209999999999|\n",
      "|    0.35|          -9122.649|\n",
      "|     0.4|-21346.427999999996|\n",
      "|    0.45|         -1103.1915|\n",
      "|     0.5|         -96632.115|\n",
      "|     0.6|-20517.456000000002|\n",
      "|    0.65| -6221.965499999999|\n",
      "|     0.7|          -5496.765|\n",
      "|     0.8|           -460.284|\n",
      "|    0.85|          -3068.658|\n",
      "+--------+-------------------+\n",
      "\n"
     ]
    }
   ],
   "source": [
    "# let's see the totl profit by discount bracket, make sure they are ordered by \n",
    "db.select(\"Profit\",\"Discount\").groupBy(\"Discount\").agg({\"Profit\":\"sum\"}).orderBy(\"Discount\").show()\n"
   ]
  },
  {
   "cell_type": "code",
   "execution_count": 9,
   "id": "d1d76050",
   "metadata": {},
   "outputs": [
    {
     "data": {
      "text/plain": [
       "0.2"
      ]
     },
     "execution_count": 9,
     "metadata": {},
     "output_type": "execute_result"
    }
   ],
   "source": [
    "# what is the value after which we should stop offering discount?\n",
    "db1=db.select(\"Profit\",\"Discount\").groupBy(\"Discount\").agg({\"Profit\":\"sum\"}).orderBy(\"Discount\")\n",
    "db1.filter(db1[\"sum(Profit)\"]>0).collect()[3][0]\n",
    "\n"
   ]
  },
  {
   "cell_type": "code",
   "execution_count": 10,
   "id": "aae94ee1",
   "metadata": {},
   "outputs": [
    {
     "name": "stdout",
     "output_type": "stream",
     "text": [
      "+-----------------+------------------+\n",
      "|    Customer Name|       sum(Profit)|\n",
      "+-----------------+------------------+\n",
      "|     Susan Pistek| 4974.512999999999|\n",
      "|    Patrick Jones|3986.0039999999995|\n",
      "|Patrick O'Donnell|          3778.197|\n",
      "|    Ellis Ballard|           3459.66|\n",
      "|  Mike Gockenbach|3144.4439999999995|\n",
      "+-----------------+------------------+\n",
      "\n"
     ]
    }
   ],
   "source": [
    "# who are the top 5 most profitable customers\n",
    "# db.show()\n",
    "db.select(\"Customer Name\",\"Customer ID\",\"Profit\").groupBy(\"Customer Name\").agg({\"Profit\":\"sum\"}).orderBy(\"sum(Profit)\",ascending=False).limit(5).show()\n",
    "\n"
   ]
  },
  {
   "cell_type": "code",
   "execution_count": 11,
   "id": "277c465a",
   "metadata": {},
   "outputs": [
    {
     "name": "stdout",
     "output_type": "stream",
     "text": [
      "['Susan Pistek', 'Patrick Jones', \"Patrick O'Donnell\", 'Ellis Ballard', 'Mike Gockenbach']\n"
     ]
    },
    {
     "data": {
      "text/plain": [
       "76"
      ]
     },
     "execution_count": 11,
     "metadata": {},
     "output_type": "execute_result"
    }
   ],
   "source": [
    "# get all the rows belonging to those 5 customer names: hint, you may need the collect method - how many rows are they?\n",
    "l=db.select(\"Customer Name\",\"Customer ID\",\"Profit\").groupBy(\"Customer Name\").agg({\"Profit\":\"sum\"}).orderBy(\"sum(Profit)\",ascending=False).limit(5).collect()\n",
    "l1=[]\n",
    "for x in l:\n",
    "    l1.append(x[0])\n",
    "print(l1)\n",
    "db.filter(db[\"Customer Name\"].isin(l1)).count()\n",
    "\n"
   ]
  },
  {
   "cell_type": "code",
   "execution_count": 12,
   "id": "8d0fc034",
   "metadata": {},
   "outputs": [
    {
     "name": "stdout",
     "output_type": "stream",
     "text": [
      "+------+---------------+----------+----------+--------------+-----------+--------------+---------+-----+-------+--------------+------+---------------+---------------+------------+--------------------+------+--------+--------+------+--------------+\n",
      "|Row ID|       Order ID|Order Date| Ship Date|     Ship Mode|Customer ID| Customer Name|  Segment| City|  State|       Country|Region|     Product ID|       Category|Sub-Category|        Product Name| Sales|Quantity|Discount|Profit|salenodiscount|\n",
      "+------+---------------+----------+----------+--------------+-----------+--------------+---------+-----+-------+--------------+------+---------------+---------------+------------+--------------------+------+--------+--------+------+--------------+\n",
      "|     1|ES-2017-1311038|07/02/2017|11/02/2017|Standard Class|   AS-10045|Aaron Smayling|Corporate|Leeds|England|United Kingdom| North|OFF-ST-10000988|Office Supplies|     Storage|Fellowes Folders,...|  79.2|       3|     0.0|  39.6|          79.2|\n",
      "|     2|ES-2017-1311038|07/02/2017|11/02/2017|Standard Class|   AS-10045|Aaron Smayling|Corporate|Leeds|England|United Kingdom| North|TEC-AC-10004144|     Technology| Accessories|SanDisk Numeric K...|388.92|       7|     0.0|   0.0|        388.92|\n",
      "|     3|ES-2017-1311038|07/02/2017|11/02/2017|Standard Class|   AS-10045|Aaron Smayling|Corporate|Leeds|England|United Kingdom| North|OFF-LA-10001915|Office Supplies|      Labels|Avery Legal Exhib...| 35.19|       3|     0.0| 16.11|         35.19|\n",
      "|     4|ES-2017-1311038|07/02/2017|11/02/2017|Standard Class|   AS-10045|Aaron Smayling|Corporate|Leeds|England|United Kingdom| North|OFF-ST-10004550|Office Supplies|     Storage|Fellowes Folders,...| 50.94|       2|     0.0|  13.2|         50.94|\n",
      "|     5|ES-2017-1311038|07/02/2017|11/02/2017|Standard Class|   AS-10045|Aaron Smayling|Corporate|Leeds|England|United Kingdom| North|TEC-AC-10004068|     Technology| Accessories|Memorex Memory Ca...|307.44|       3|     0.0| 73.71|        307.44|\n",
      "+------+---------------+----------+----------+--------------+-----------+--------------+---------+-----+-------+--------------+------+---------------+---------------+------------+--------------------+------+--------+--------+------+--------------+\n",
      "\n"
     ]
    }
   ],
   "source": [
    "# create a new column which is the value of the sale were there not discount applied. Hint: orginal = sales/(1-d)\n",
    "db=db.withColumn(\"salenodiscount\", db[\"Sales\"]/(1-db[\"Discount\"]))\n",
    "db.limit(5).show()"
   ]
  },
  {
   "cell_type": "code",
   "execution_count": null,
   "id": "5f9d09ac",
   "metadata": {},
   "outputs": [],
   "source": []
  },
  {
   "cell_type": "code",
   "execution_count": 13,
   "id": "ba0f9aa9",
   "metadata": {},
   "outputs": [
    {
     "name": "stdout",
     "output_type": "stream",
     "text": [
      "+------+---------------+----------+----------+--------------+-----------+----------------+-----------+-------------+--------------------+--------------+-------+---------------+---------------+------------+--------------------+--------+--------+--------+-------+------------------+------------------+\n",
      "|Row ID|       Order ID|Order Date| Ship Date|     Ship Mode|Customer ID|   Customer Name|    Segment|         City|               State|       Country| Region|     Product ID|       Category|Sub-Category|        Product Name|   Sales|Quantity|Discount| Profit|    salenodiscount|              diff|\n",
      "+------+---------------+----------+----------+--------------+-----------+----------------+-----------+-------------+--------------------+--------------+-------+---------------+---------------+------------+--------------------+--------+--------+--------+-------+------------------+------------------+\n",
      "|     1|ES-2017-1311038|07/02/2017|11/02/2017|Standard Class|   AS-10045|  Aaron Smayling|  Corporate|        Leeds|             England|United Kingdom|  North|OFF-ST-10000988|Office Supplies|     Storage|Fellowes Folders,...|    79.2|       3|     0.0|   39.6|              79.2|               0.0|\n",
      "|     2|ES-2017-1311038|07/02/2017|11/02/2017|Standard Class|   AS-10045|  Aaron Smayling|  Corporate|        Leeds|             England|United Kingdom|  North|TEC-AC-10004144|     Technology| Accessories|SanDisk Numeric K...|  388.92|       7|     0.0|    0.0|            388.92|               0.0|\n",
      "|     3|ES-2017-1311038|07/02/2017|11/02/2017|Standard Class|   AS-10045|  Aaron Smayling|  Corporate|        Leeds|             England|United Kingdom|  North|OFF-LA-10001915|Office Supplies|      Labels|Avery Legal Exhib...|   35.19|       3|     0.0|  16.11|             35.19|               0.0|\n",
      "|     4|ES-2017-1311038|07/02/2017|11/02/2017|Standard Class|   AS-10045|  Aaron Smayling|  Corporate|        Leeds|             England|United Kingdom|  North|OFF-ST-10004550|Office Supplies|     Storage|Fellowes Folders,...|   50.94|       2|     0.0|   13.2|             50.94|               0.0|\n",
      "|     5|ES-2017-1311038|07/02/2017|11/02/2017|Standard Class|   AS-10045|  Aaron Smayling|  Corporate|        Leeds|             England|United Kingdom|  North|TEC-AC-10004068|     Technology| Accessories|Memorex Memory Ca...|  307.44|       3|     0.0|  73.71|            307.44|               0.0|\n",
      "|     6|ES-2017-1311038|07/02/2017|11/02/2017|Standard Class|   AS-10045|  Aaron Smayling|  Corporate|        Leeds|             England|United Kingdom|  North|OFF-ST-10002271|Office Supplies|     Storage|Rogers Shelving, ...|   122.4|       2|     0.0|  37.92|             122.4|               0.0|\n",
      "|     7|ES-2017-1311038|07/02/2017|11/02/2017|Standard Class|   AS-10045|  Aaron Smayling|  Corporate|        Leeds|             England|United Kingdom|  North|TEC-PH-10003963|     Technology|      Phones|Apple Signal Boos...|  413.82|       3|     0.0|  20.61|            413.82|               0.0|\n",
      "|     8|ES-2015-5113958|02/08/2015|07/08/2015|  Second Class|   EB-13840|   Ellis Ballard|  Corporate|West Bromwich|             England|United Kingdom|  North|TEC-CO-10004325|     Technology|     Copiers|Canon Personal Co...|  428.22|       3|     0.0| 192.69|            428.22|               0.0|\n",
      "|     9|ES-2015-5113958|02/08/2015|07/08/2015|  Second Class|   EB-13840|   Ellis Ballard|  Corporate|West Bromwich|             England|United Kingdom|  North|OFF-AP-10004512|Office Supplies|  Appliances|   Hoover Stove, Red| 3979.29|       7|     0.0|1989.54|           3979.29|               0.0|\n",
      "|    10|ES-2015-5113958|02/08/2015|07/08/2015|  Second Class|   EB-13840|   Ellis Ballard|  Corporate|West Bromwich|             England|United Kingdom|  North|OFF-FA-10002393|Office Supplies|   Fasteners|Accos Push Pins, ...|   43.56|       3|     0.0|   12.6|             43.56|               0.0|\n",
      "|    11|ES-2015-2510515|20/06/2015|20/06/2015|      Same Day|   LH-17155|Logan Haushalter|   Consumer|   Le Bouscat|Aquitaine-Limousi...|        France|Central|OFF-LA-10002805|Office Supplies|      Labels|Hon Color Coded L...|   25.26|       2|     0.0|   0.48|             25.26|               0.0|\n",
      "|    12|ES-2015-2510515|20/06/2015|20/06/2015|      Same Day|   LH-17155|Logan Haushalter|   Consumer|   Le Bouscat|Aquitaine-Limousi...|        France|Central|OFF-AP-10002330|Office Supplies|  Appliances|Hamilton Beach St...|2443.905|       5|     0.1|760.305|2715.4500000000003| 271.5450000000001|\n",
      "|    13|ES-2015-2510515|20/06/2015|20/06/2015|      Same Day|   LH-17155|Logan Haushalter|   Consumer|   Le Bouscat|Aquitaine-Limousi...|        France|Central|OFF-AR-10000505|Office Supplies|         Art|Binney & Smith Pe...|   12.21|       1|     0.0|    0.0|             12.21|               0.0|\n",
      "|    14|ES-2015-2510515|20/06/2015|20/06/2015|      Same Day|   LH-17155|Logan Haushalter|   Consumer|   Le Bouscat|Aquitaine-Limousi...|        France|Central|TEC-PH-10002898|     Technology|      Phones|Samsung Smart Pho...|2167.296|       4|    0.15|790.416|2549.7599999999998|382.46399999999994|\n",
      "|    15|ES-2015-2510515|20/06/2015|20/06/2015|      Same Day|   LH-17155|Logan Haushalter|   Consumer|   Le Bouscat|Aquitaine-Limousi...|        France|Central|OFF-ST-10001413|Office Supplies|     Storage|Rogers Folders, Blue| 138.105|       5|     0.1|-12.345|            153.45|15.344999999999999|\n",
      "|    16|ES-2016-4380115|16/02/2016|20/02/2016|Standard Class|   KC-16540| Kelly Collister|   Consumer|   Strasbourg|Alsace-Champagne-...|        France|Central|OFF-ST-10003931|Office Supplies|     Storage|Smead Trays, Wire...| 128.385|       3|     0.1|  4.275|142.64999999999998|14.264999999999986|\n",
      "|    17|ES-2016-4380115|16/02/2016|20/02/2016|Standard Class|   KC-16540| Kelly Collister|   Consumer|   Strasbourg|Alsace-Champagne-...|        France|Central|TEC-AC-10004269|     Technology| Accessories|Belkin Memory Car...|  690.12|       6|     0.0|    0.0|            690.12|               0.0|\n",
      "|    18|ES-2016-4380115|16/02/2016|20/02/2016|Standard Class|   KC-16540| Kelly Collister|   Consumer|   Strasbourg|Alsace-Champagne-...|        France|Central|OFF-LA-10001676|Office Supplies|      Labels|Hon Removable Lab...|    8.16|       1|     0.0|   1.14|              8.16|               0.0|\n",
      "|    19|ES-2017-2573330|03/11/2017|08/11/2017|Standard Class|   BF-11170|      Ben Ferrer|Home Office|         Unna|North Rhine-Westp...|       Germany|Central|TEC-MA-10000811|     Technology|    Machines|Okidata Phone, Du...|  347.88|       4|     0.0|  76.44|            347.88|               0.0|\n",
      "|    20|ES-2017-2573330|03/11/2017|08/11/2017|Standard Class|   BF-11170|      Ben Ferrer|Home Office|         Unna|North Rhine-Westp...|       Germany|Central|OFF-ST-10000648|Office Supplies|     Storage|Eldon File Cart, ...| 575.505|       5|     0.1| 12.705| 639.4499999999999|63.944999999999936|\n",
      "+------+---------------+----------+----------+--------------+-----------+----------------+-----------+-------------+--------------------+--------------+-------+---------------+---------------+------------+--------------------+--------+--------+--------+-------+------------------+------------------+\n",
      "only showing top 20 rows\n",
      "\n"
     ]
    }
   ],
   "source": [
    "# calculate the difference between sales and discount value\n",
    "db=db.withColumn(\"diff\",db[\"salenodiscount\"]-db[\"Sales\"])\n",
    "db.show()\n"
   ]
  },
  {
   "cell_type": "code",
   "execution_count": 14,
   "id": "8e810f4f",
   "metadata": {},
   "outputs": [
    {
     "name": "stdout",
     "output_type": "stream",
     "text": [
      "+--------+------------------+\n",
      "|Discount|         sum(diff)|\n",
      "+--------+------------------+\n",
      "|     0.0|               0.0|\n",
      "|     0.1| 84712.44899999995|\n",
      "|    0.15| 45233.17650000002|\n",
      "|     0.2|10653.119999999997|\n",
      "|     0.3|2630.2410000000004|\n",
      "|    0.35|29163.099000000002|\n",
      "|     0.4| 46724.68800000002|\n",
      "|    0.45|2083.4414999999995|\n",
      "|     0.5|183734.26500000045|\n",
      "|     0.6| 39644.04599999997|\n",
      "|    0.65|12219.655499999999|\n",
      "|     0.7|          8534.085|\n",
      "|     0.8| 635.6640000000002|\n",
      "|    0.85|          4515.438|\n",
      "+--------+------------------+\n",
      "\n"
     ]
    }
   ],
   "source": [
    "# how much money did we not gain due to the discounts - per discount bracket?\n",
    "db.select(\"Discount\",\"diff\").groupBy(\"Discount\").agg({\"diff\":\"sum\"}).orderBy(\"Discount\").show()\n"
   ]
  },
  {
   "cell_type": "code",
   "execution_count": 15,
   "id": "76aca9f2",
   "metadata": {},
   "outputs": [
    {
     "data": {
      "text/plain": [
       "0.5"
      ]
     },
     "execution_count": 15,
     "metadata": {},
     "output_type": "execute_result"
    }
   ],
   "source": [
    "# find the discount bracket which made us not gain the most (dynamically)\n",
    "max=db.select(\"Discount\",\"diff\").groupBy(\"Discount\").agg({\"diff\":\"sum\"}).orderBy(\"sum(diff)\",ascending=False).collect()[0][0]\n",
    "max\n",
    "\n"
   ]
  },
  {
   "cell_type": "code",
   "execution_count": 25,
   "id": "0aa9b685",
   "metadata": {},
   "outputs": [
    {
     "name": "stdout",
     "output_type": "stream",
     "text": [
      "+-----------------+\n",
      "|      sum(Profit)|\n",
      "+-----------------+\n",
      "|469461.8565000003|\n",
      "+-----------------+\n",
      "\n",
      "+-----------------+\n",
      "|      sum(Profit)|\n",
      "+-----------------+\n",
      "|372829.7415000005|\n",
      "+-----------------+\n",
      "\n"
     ]
    }
   ],
   "source": [
    "# what would have been the total profit if we removed all orders from that discount group? \n",
    "from pyspark.sql import functions\n",
    "db1=db.filter(db[\"Discount\"]!=0.5)\n",
    "db1.select(functions.sum(\"Profit\")).show()\n",
    "db.select(functions.sum(\"Profit\")).show()\n",
    "\n"
   ]
  },
  {
   "cell_type": "code",
   "execution_count": 31,
   "id": "fca95e60",
   "metadata": {},
   "outputs": [
    {
     "data": {
      "text/plain": [
       "96632.11499999976"
      ]
     },
     "execution_count": 31,
     "metadata": {},
     "output_type": "execute_result"
    }
   ],
   "source": [
    "#how much more (or less) profit is that?\n",
    "diff=db1.select(functions.sum(\"Profit\")).collect()[0][0]-db.select(functions.sum(\"Profit\")).collect()[0][0]\n",
    "diff\n",
    "\n"
   ]
  },
  {
   "cell_type": "code",
   "execution_count": 32,
   "id": "0fb49200",
   "metadata": {},
   "outputs": [],
   "source": [
    "# create a temporary table for our superstore table in sql\n",
    "db.createOrReplaceTempView(\"table\")\n"
   ]
  },
  {
   "cell_type": "code",
   "execution_count": 33,
   "id": "a23e0bca",
   "metadata": {},
   "outputs": [
    {
     "name": "stdout",
     "output_type": "stream",
     "text": [
      "+--------+\n",
      "|count(1)|\n",
      "+--------+\n",
      "|   10000|\n",
      "+--------+\n",
      "\n"
     ]
    }
   ],
   "source": [
    "# use an SQL query to count the number of rows\n",
    "spark.sql(\"select count(*) from table\").show()\n"
   ]
  },
  {
   "cell_type": "code",
   "execution_count": 42,
   "id": "8e2cf9f2",
   "metadata": {},
   "outputs": [
    {
     "name": "stdout",
     "output_type": "stream",
     "text": [
      "+--------------+--------------------+\n",
      "|       Country|        profit_ratio|\n",
      "+--------------+--------------------+\n",
      "|   Switzerland|  0.2909201193350232|\n",
      "|       Austria|  0.2641908775042505|\n",
      "|        Norway|  0.2517747548521659|\n",
      "|       Belgium| 0.23508766583987942|\n",
      "|United Kingdom| 0.21170103540397134|\n",
      "|         Spain| 0.18941580658358978|\n",
      "|       Finland| 0.18864296633316185|\n",
      "|       Germany| 0.17066792076621765|\n",
      "|        France| 0.12693568221933804|\n",
      "|         Italy| 0.06844355185424991|\n",
      "|       Ireland|-0.44426677493909256|\n",
      "|       Denmark| -0.4957190005664471|\n",
      "|   Netherlands| -0.5298342790541865|\n",
      "|        Sweden| -0.5745674280714466|\n",
      "|      Portugal| -0.5761662270806188|\n",
      "+--------------+--------------------+\n",
      "\n"
     ]
    }
   ],
   "source": [
    "# Use an SQL query to calculate the profit ratio for each country: hint, ratio is sum(profit)/sum(sales)\n",
    "\n",
    "spark.sql(\"select Country, sum(Profit)/sum(Sales) as profit_ratio from table group by Country\").orderBy(\"profit_ratio\",ascending=False).show()\n",
    "\n"
   ]
  },
  {
   "cell_type": "code",
   "execution_count": 44,
   "id": "f8cdd772",
   "metadata": {},
   "outputs": [
    {
     "name": "stdout",
     "output_type": "stream",
     "text": [
      "+--------------+-------------------+\n",
      "|       Country|        sum(Profit)|\n",
      "+--------------+-------------------+\n",
      "|United Kingdom| 111900.15000000001|\n",
      "|        France| 109029.00299999975|\n",
      "|       Germany| 107322.82049999991|\n",
      "|         Spain|  54390.11999999999|\n",
      "|       Austria|           21442.26|\n",
      "|         Italy| 19828.757999999965|\n",
      "|       Belgium|           11572.59|\n",
      "|   Switzerland|  7237.470000000001|\n",
      "|        Norway|            5167.77|\n",
      "|       Finland|            3905.73|\n",
      "|       Denmark|-4282.0470000000005|\n",
      "|       Ireland| -7392.381000000003|\n",
      "|      Portugal| -8703.059999999998|\n",
      "|        Sweden|-17519.366999999987|\n",
      "|   Netherlands| -41070.07499999996|\n",
      "+--------------+-------------------+\n",
      "\n"
     ]
    }
   ],
   "source": [
    "# is the country with the largest profit ratio, the country with the largest profit? answer: no.\n",
    "\n",
    "db.select(\"Country\",\"Profit\").groupBy(\"Country\").agg({\"Profit\":\"sum\"}).orderBy(\"sum(Profit)\",ascending=False).show()\n",
    "\n"
   ]
  },
  {
   "cell_type": "code",
   "execution_count": null,
   "id": "4c7397b1",
   "metadata": {},
   "outputs": [],
   "source": []
  }
 ],
 "metadata": {
  "kernelspec": {
   "display_name": "Python 3 (ipykernel)",
   "language": "python",
   "name": "python3"
  },
  "language_info": {
   "codemirror_mode": {
    "name": "ipython",
    "version": 3
   },
   "file_extension": ".py",
   "mimetype": "text/x-python",
   "name": "python",
   "nbconvert_exporter": "python",
   "pygments_lexer": "ipython3",
   "version": "3.11.5"
  }
 },
 "nbformat": 4,
 "nbformat_minor": 5
}
